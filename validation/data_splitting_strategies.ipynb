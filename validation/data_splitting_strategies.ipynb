{
 "cells": [
  {
   "cell_type": "markdown",
   "metadata": {},
   "source": [
    "# Data Splitting Strategies\n",
    "\n",
    "1) Random row wise. Independent Rows. Make sure rows are independent.\n",
    "\n",
    "2) Time wise. For time series datasets.\n",
    "\n",
    "3) By ID.\n",
    "\n",
    "\n",
    "![image.png](../images/time_wise_split.png)\n",
    "\n",
    "\n",
    "- Logic of feature generation depends on the data splitting strategy\n",
    "\n",
    "\n",
    "- Set up your validation to mimic the train/test split of real world\n",
    "\n",
    "- If you have big dispersion of scores on validation stage, we should do extensive validation.\n",
    "    - Average scores from different fold splits.\n",
    "    - Tune model on one split and evaluate on other splits.\n",
    "    \n",
    "- Good to check:\n",
    "    - Overfitting or not.\n",
    "    - If we choose correct splitting strategy.\n",
    "    - Check if train/test have different distribution.\n",
    "    \n",
    " "
   ]
  },
  {
   "cell_type": "code",
   "execution_count": null,
   "metadata": {},
   "outputs": [],
   "source": []
  }
 ],
 "metadata": {
  "kernelspec": {
   "display_name": "Python 3",
   "language": "python",
   "name": "python3"
  },
  "language_info": {
   "codemirror_mode": {
    "name": "ipython",
    "version": 3
   },
   "file_extension": ".py",
   "mimetype": "text/x-python",
   "name": "python",
   "nbconvert_exporter": "python",
   "pygments_lexer": "ipython3",
   "version": "3.7.1"
  }
 },
 "nbformat": 4,
 "nbformat_minor": 2
}
