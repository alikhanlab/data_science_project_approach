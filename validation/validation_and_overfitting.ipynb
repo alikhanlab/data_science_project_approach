{
 "cells": [
  {
   "cell_type": "markdown",
   "metadata": {},
   "source": [
    "# Validation\n",
    "      \n",
    "Why we need validation?   \n",
    "    \n",
    "    - To generalize model and assess quality of model.\n",
    "    \n",
    "    - Pick the model that perform best on unseen data.\n",
    "\n",
    "\n",
    "![image.png](../images/data_split_table.png)"
   ]
  },
  {
   "cell_type": "markdown",
   "metadata": {},
   "source": [
    "# Overfitting \n",
    "\n",
    "`Underfitting` - model not capture enough pattern. (too simple model)\n",
    "\n",
    "`Overfitting` - model captures noise, not generalises test data. (too complex model, senseative to noise)\n",
    "\n",
    "`Ideal model` - sits on train model, where validation error is minimal.\n",
    "\n",
    "\n",
    "![image.png](../images/overfitting_plot.png)"
   ]
  },
  {
   "cell_type": "markdown",
   "metadata": {},
   "source": [
    "# Validation Strategies \n",
    "\n",
    "### Essential rule:\n",
    "      \n",
    "      Do not overlap train with validation/test data.\n",
    "      \n",
    "### 1. Holdout,  n_groups = 1\n",
    "\n",
    "#### Use:\n",
    "- Enough data\n",
    "- The same evelution metric scores for different splits.\n",
    "\n",
    "![image.png](../images/holdout.png)\n",
    "\n",
    "\n",
    "### 2. K-fold,  n_groups = k, usually k=5.\n",
    "\n",
    "#### Use:\n",
    "- Medium amount data\n",
    "- Get big difference in quality or different optimal model parameters between  folds.\n",
    "\n",
    "![image.png](../images/k-fold.png)\n",
    "\n",
    "\n",
    "### 3. Leave-one-out, n_groups = len(train)\n",
    "\n",
    "Iterate through every sample in our data\n",
    "\n",
    "#### Use:\n",
    "- Too little data\n",
    "- Fast enough to re-train\n",
    "\n",
    "![image.png](../images/loo.png)\n",
    "\n",
    "\n",
    "\n",
    "### 4. Stratified validation\n",
    "\n",
    "`Stratification` - preserve the same target distribution over different folds.\n",
    "\n",
    "#### Use:\n",
    "- Small datasets\n",
    "- Unbalanced datasets\n",
    "- Multiclass classification\n"
   ]
  },
  {
   "cell_type": "code",
   "execution_count": null,
   "metadata": {},
   "outputs": [],
   "source": []
  }
 ],
 "metadata": {
  "kernelspec": {
   "display_name": "Python 3",
   "language": "python",
   "name": "python3"
  },
  "language_info": {
   "codemirror_mode": {
    "name": "ipython",
    "version": 3
   },
   "file_extension": ".py",
   "mimetype": "text/x-python",
   "name": "python",
   "nbconvert_exporter": "python",
   "pygments_lexer": "ipython3",
   "version": "3.7.1"
  }
 },
 "nbformat": 4,
 "nbformat_minor": 2
}
