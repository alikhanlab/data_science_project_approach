{
 "cells": [
  {
   "cell_type": "markdown",
   "metadata": {},
   "source": [
    "# Prcatical Guide\n",
    "\n",
    "## 1. Define your goal. What can you get out of project/comtetition?\n",
    "- Learn interesting problem.\n",
    "- Learn new software tools.\n",
    "\n",
    "## 2. Brainstorm.\n",
    "- Think about which appoarch you can take to solve problems.\n",
    "- Organize ideas by:\n",
    "    - Importance\n",
    "    - Feasability \n",
    "    - Understanding\n",
    "- Try to understand reasons why something does/doesn't work.\n",
    "\n",
    "## 3. Data Loading\n",
    "- Do basic preprocessing and convert `csv/txt` files into `hdf5/npy` for much faster loading.\n",
    "- Do not forget that by default data is stored in `64-bit` arrays, most of the times you can safely downcast it to `32-bits`. It means dataset size will be reduced twice just by changing data type.\n",
    "- Large datasets can be processed in chunks in `pandas`. Or use `dask`.\n",
    "\n",
    "## 4. Start with EDA and a baseline\n",
    "- To make sure the data is loaded correctly\n",
    "- To check if validation is stable\n",
    "\n",
    "## 5. Extensive Validation is not always needed if dataset is big enough. (nrows > 1'000)\n",
    "\n",
    "- Start with fastest models `LightGBM`.\n",
    "\n",
    "## 6. Keep your research reproducible \n",
    "\n",
    "- Fix random seed\n",
    "- Write down exactly how any features were generated\n",
    "- Use Version Control Systems (VCS, for example, git)\n",
    "\n",
    "## 7. Hyperparametersoptimization\n",
    "- First find the parameters to overfittrain dataset\n",
    "- And then try to trim model "
   ]
  },
  {
   "cell_type": "code",
   "execution_count": null,
   "metadata": {},
   "outputs": [],
   "source": []
  }
 ],
 "metadata": {
  "kernelspec": {
   "display_name": "Python 3",
   "language": "python",
   "name": "python3"
  },
  "language_info": {
   "codemirror_mode": {
    "name": "ipython",
    "version": 3
   },
   "file_extension": ".py",
   "mimetype": "text/x-python",
   "name": "python",
   "nbconvert_exporter": "python",
   "pygments_lexer": "ipython3",
   "version": "3.7.1"
  }
 },
 "nbformat": 4,
 "nbformat_minor": 2
}
