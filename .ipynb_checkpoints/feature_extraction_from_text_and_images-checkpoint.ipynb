{
 "cells": [
  {
   "cell_type": "markdown",
   "metadata": {},
   "source": [
    "# Feature Extraction From Text"
   ]
  },
  {
   "cell_type": "markdown",
   "metadata": {},
   "source": [
    "### Pipeline for applying BOW (Bag of Words)\n",
    "\n",
    "1. Preprocessing:\n",
    "    - Lowercase\n",
    "    - Stemming (chopping word endings to get root)\n",
    "    - Lemmatization (using morphological analysis of words to get root)\n",
    "    - Removing stop words\n",
    "\n",
    "2. N-grams. Can help to capture local context\n",
    "\n",
    "\n",
    "3. Postprocessing:\n",
    "    - TFIDF (Increase weights of unique words and decrease weights of common words)"
   ]
  },
  {
   "cell_type": "markdown",
   "metadata": {},
   "source": [
    "### Word2Vec\n",
    "\n",
    "1. Relatively `small vectors`. Usaully around 300\n",
    "\n",
    "\n",
    "2. Pretrained models. Example: `gensim`\n",
    "\n",
    "\n",
    "3. Words with similiar meaning will have similiar vector representation\n"
   ]
  },
  {
   "cell_type": "markdown",
   "metadata": {},
   "source": [
    "# Feature Extraction From Images\n",
    "\n",
    "1. Features can be extracted from different layers\n",
    "\n",
    "\n",
    "2. Careful choosing of pretrained network can help. (ex. ImageNet)\n",
    "\n",
    "\n",
    "3. Finetuning allows to refine pretrained models\n",
    "\n",
    "\n",
    "4. Data augmentation can improve the model. Data augmentation is rotation and grouping images\n",
    "\n",
    "\n",
    "5. CNN mostly used for images"
   ]
  },
  {
   "cell_type": "code",
   "execution_count": null,
   "metadata": {},
   "outputs": [],
   "source": []
  }
 ],
 "metadata": {
  "kernelspec": {
   "display_name": "Python 3",
   "language": "python",
   "name": "python3"
  },
  "language_info": {
   "codemirror_mode": {
    "name": "ipython",
    "version": 3
   },
   "file_extension": ".py",
   "mimetype": "text/x-python",
   "name": "python",
   "nbconvert_exporter": "python",
   "pygments_lexer": "ipython3",
   "version": "3.7.1"
  }
 },
 "nbformat": 4,
 "nbformat_minor": 2
}
