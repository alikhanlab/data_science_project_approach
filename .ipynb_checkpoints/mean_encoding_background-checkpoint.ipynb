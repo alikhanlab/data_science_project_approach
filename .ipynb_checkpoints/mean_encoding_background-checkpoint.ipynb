{
 "cells": [
  {
   "cell_type": "markdown",
   "metadata": {},
   "source": [
    "# Mean Encoding == Likelihood Encoding\n",
    "\n",
    "Mean encoding is add target mean to categorical feature.\n",
    "\n",
    "Example:\n",
    "\n",
    "![mean_encoding_example.png](images/mean_encoding_example.png)"
   ]
  },
  {
   "cell_type": "markdown",
   "metadata": {},
   "source": [
    "## Implementation\n",
    "\n",
    "1) First split (train/test)\n",
    "2) Mean encode on train\n",
    "3) Add mean encoded categorical feature to train and test.\n",
    "\n",
    "## Ways to use targer variable :\n",
    "\n",
    "- Goods - number of ones in a group.\n",
    "- Bads  - number of zeros in a group.\n",
    "\n",
    "![mean_encoding_ways.png](images/mean_encoding_ways.png)"
   ]
  },
  {
   "cell_type": "markdown",
   "metadata": {},
   "source": [
    "# Mean Encoding Regularization. Always use with regularization.\n",
    "\n",
    "## Ways to regularize:\n",
    "\n",
    "1) CV Loop Regularization. (Good in practice)\n",
    "\n",
    "2) Smooting.\n",
    "\n",
    "3) Noise.\n",
    "\n",
    "4) Expanding mean. (Good in practice)\n"
   ]
  },
  {
   "cell_type": "markdown",
   "metadata": {},
   "source": [
    "## CV Loop Regularization. (Good in practice).\n",
    "\n",
    "- Robust and intuitive.\n",
    "- Usually decent results with 4-5 folds accross different datasets.\n",
    "- Don't take account current fold target values.\n",
    "\n",
    "## Smooting.\n",
    "\n",
    "- Alpha controls the amount of regularization.\n",
    "- We trust mean encoding if category is big, but if category is rare we don't trust in this method.\n",
    "\n",
    "((mean(traget) * nrows) + (global_mean * alpha)) / (nrows + alpha)\n",
    "\n",
    "## Noise.\n",
    "\n",
    "Not best option, because need to optimize how much noise to add\n",
    "\n",
    "## Expanding mean. (Good in practice).\n",
    "\n",
    "- Least amount of leakage.\n",
    "- No hyper parameters.\n",
    "- Irregular encoding\n",
    "- Built in CatBoost.\n"
   ]
  },
  {
   "cell_type": "code",
   "execution_count": null,
   "metadata": {},
   "outputs": [],
   "source": []
  }
 ],
 "metadata": {
  "kernelspec": {
   "display_name": "Python 3",
   "language": "python",
   "name": "python3"
  },
  "language_info": {
   "codemirror_mode": {
    "name": "ipython",
    "version": 3
   },
   "file_extension": ".py",
   "mimetype": "text/x-python",
   "name": "python",
   "nbconvert_exporter": "python",
   "pygments_lexer": "ipython3",
   "version": "3.7.1"
  }
 },
 "nbformat": 4,
 "nbformat_minor": 2
}
