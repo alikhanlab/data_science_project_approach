{
 "cells": [
  {
   "cell_type": "markdown",
   "metadata": {},
   "source": [
    "# Offered Pipeline can be usefull by Marios Michailidis"
   ]
  },
  {
   "cell_type": "markdown",
   "metadata": {},
   "source": [
    "# General Pipeline\n",
    "\n",
    "### 1) Understand Problem (1 day)\n",
    "\n",
    "- Type of problem\n",
    "- How BIG is the data (How much I need)\n",
    "- Hardware needed (CPU, GPU, RAM, Disk)\n",
    "- Software needed (TF+Keras, sklearn, LightGBM, XGBoost)\n",
    "- What is the metric being tested on\n",
    "\n",
    "### 2) EDA (1-2 days)\n",
    "\n",
    "- Plot histogram of variables. Check if the distribution of variable in train and test data is different. If there is a difference, it can cause problem to model, so need to handle it by removing or scaling it a specific way.\n",
    "\n",
    "- Plot features versus the target variable and versus time. Helps to understand effect of time, how it is important.\n",
    "\n",
    "- Plot categorical variables versus target variable, and create some predictability metrics(Information value, Chi-square test) in order to see what is useful and whether I can make hypothesis about the data, or understand the data and they relate to target variable.\n",
    "\n",
    "- Bin numerical features, in order to understand if there any non-linearities (variable is low, target is high), whether there is a correlation.\n",
    "\n",
    "### 3) Define CV strategy\n",
    "\n",
    "- Is time is important?. If yes, split by time. `Time-based validation`. Always has past data predicting future data. Even intervals need to be the same. If train is 3 months, then validation is 3 months.\n",
    "\n",
    "- Different entities than the train. If yes, then `Stratified validation`. For example, you have different customers on train data, and different customers on test data. In validation data you always must have different customers, than on train data. Otherwise, you are not testing model in a fair way, biased model.\n",
    "\n",
    "- If completely random, then `Random validation`(random K-fold)\n",
    "\n",
    "\n",
    "### 4) Feature engineering (until last 3-4 days)\n",
    "\n",
    "![feature_engineering_table.png](images/feature_engineering_table.png)\n",
    "\n",
    "### 5) Modeling (until last 3-4 days)\n",
    "\n",
    "Try to run on several models and save them, later we ensemble models. \n",
    "\n",
    "![modeling_table.png](images/modeling_table.png)\n",
    "### 6) Ensembling (last 3-4 days)\n",
    "\n",
    "Not sure how to do it. Read separate notebook for ensembling.\n",
    "\n",
    "Combining different predictions. Example methods: averaging (for small datasets), stacking (for big datasets)\n",
    "\n",
    "Not sure how to do it. Read separate notebook for ensembling."
   ]
  },
  {
   "cell_type": "code",
   "execution_count": null,
   "metadata": {},
   "outputs": [],
   "source": []
  }
 ],
 "metadata": {
  "kernelspec": {
   "display_name": "Python 3",
   "language": "python",
   "name": "python3"
  },
  "language_info": {
   "codemirror_mode": {
    "name": "ipython",
    "version": 3
   },
   "file_extension": ".py",
   "mimetype": "text/x-python",
   "name": "python",
   "nbconvert_exporter": "python",
   "pygments_lexer": "ipython3",
   "version": "3.7.1"
  }
 },
 "nbformat": 4,
 "nbformat_minor": 2
}
