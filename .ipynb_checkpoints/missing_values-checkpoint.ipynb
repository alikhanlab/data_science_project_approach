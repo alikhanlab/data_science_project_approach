{
 "cells": [
  {
   "cell_type": "markdown",
   "metadata": {},
   "source": [
    "# Missing Values\n",
    "\n",
    "    General advice: \n",
    "\n",
    "    First feature engineer, then impute missing values"
   ]
  },
  {
   "cell_type": "markdown",
   "metadata": {},
   "source": [
    "1. The choice of method to fill NaN depends on the situation\n",
    "\n",
    "\n",
    "2. Usual way to deal with missing values is to replace them with -999, mean, or median\n",
    "\n",
    "\n",
    "3. Missing values can be replaced by organisers/company\n",
    "\n",
    "\n",
    "4. Binary value 'is_null' can be beneficial. Indicate that it was missing.\n",
    "    \n",
    "        Example:\n",
    "        |index|city   |is_null|\n",
    "        |0    |Boston |0      |\n",
    "        |1    |Boston |0      |\n",
    "        |2    |NYC    |0      |\n",
    "        |3    |NaN    |1      |\n",
    "        |4    |Miami  |0      |\n",
    "        \n",
    "        Here index = 3, is NaN and we indicate it as it was NaN, if in the future we impute NaN with mean or smth. we will know the value was missing.\n",
    "        \n",
    "        \n",
    "5. XgBoost can handle NaNs"
   ]
  },
  {
   "cell_type": "code",
   "execution_count": null,
   "metadata": {},
   "outputs": [],
   "source": []
  }
 ],
 "metadata": {
  "kernelspec": {
   "display_name": "Python 3",
   "language": "python",
   "name": "python3"
  },
  "language_info": {
   "codemirror_mode": {
    "name": "ipython",
    "version": 3
   },
   "file_extension": ".py",
   "mimetype": "text/x-python",
   "name": "python",
   "nbconvert_exporter": "python",
   "pygments_lexer": "ipython3",
   "version": "3.7.1"
  }
 },
 "nbformat": 4,
 "nbformat_minor": 2
}
