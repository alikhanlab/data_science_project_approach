{
 "cells": [
  {
   "cell_type": "markdown",
   "metadata": {},
   "source": [
    "# Regression Metrics\n",
    "\n",
    "Metrics covered: \n",
    "\n",
    "#### 1) MSE, RMSE, R-squared\n",
    "\n",
    "#### 2) MAE\n",
    "\n",
    "#### 3) (R)MSPE, MAPE\n",
    "\n",
    "#### 4) (R)MSLE\n"
   ]
  },
  {
   "cell_type": "markdown",
   "metadata": {},
   "source": [
    "#### Notation\n",
    "\n",
    "![image.png](images/notation_regression.png)"
   ]
  },
  {
   "cell_type": "markdown",
   "metadata": {},
   "source": [
    "# MSE: Mean Squared Error\n",
    "\n",
    "![image.png](images/mse.png)\n",
    "\n",
    "\n",
    "### How to evaluate MSE ?\n",
    "\n",
    "First, you make baseline and check if your model beats this baseline.\n",
    "\n",
    "`Baseline` - best constant model, it's different for different metrics.\n",
    "\n",
    "For `MSE` best constant: `target mean`.\n",
    "\n",
    "So just compute MSE baseline, and see if your model beats it.\n",
    "\n",
    "![image.png](images/mse_baseline.png)\n",
    "\n"
   ]
  },
  {
   "cell_type": "markdown",
   "metadata": {},
   "source": [
    "## RMSE (Root Mean Squared Error)\n",
    "\n",
    "![image.png](images/rmse.png)\n",
    "\n",
    "\n",
    "So why we need RMSE?\n",
    "\n",
    "- To make scale of errors like target scale.\n",
    "\n",
    "\n",
    "`Similarity`: MSE and RMSE are the same minimization. It means if we minize MSE, then we automatically minimize RMSE. \n",
    "\n",
    "`Difference`: not the same for gradient based models, because of different learning rates. (because 1/(2*sqrt(mse) of second derivative)\n"
   ]
  },
  {
   "cell_type": "markdown",
   "metadata": {},
   "source": [
    "# R-squared\n",
    "\n",
    "![image.png](images/r_squared.png)\n",
    "\n",
    "\n",
    "R^2 = 0 (not better than baseline)\n",
    "\n",
    "R^2 = 1 (model explains 100% variability in data, not always means good model)\n",
    "\n",
    "We can optimize R-squared by optimizing MSE, RMSE"
   ]
  },
  {
   "cell_type": "markdown",
   "metadata": {},
   "source": [
    "# MAE: Mean Abosulte Error\n",
    "\n",
    "![image.png](images/mae.png)\n",
    "\n",
    "- Not sensative to outliers, more robust than MSE, not influenced by outliers\n",
    "- Mostly used in finance\n",
    "\n",
    "\n",
    "How to evaluate MAE ?\n",
    "\n",
    "Compute baseline MAE and compare it with your model, if your model beats baseline.\n",
    "\n",
    "![image.png](images/mae_baseline.png)\n"
   ]
  },
  {
   "cell_type": "markdown",
   "metadata": {},
   "source": [
    "# General guide of regression metrics\n",
    "\n",
    "- If `unusual objects are normal`, not ignore them and use MSE.\n",
    "\n",
    "- Otherwise, if unusual objects are mistakes (entry mistakes, ETL mistakes, typos) use MAE"
   ]
  },
  {
   "cell_type": "markdown",
   "metadata": {},
   "source": [
    "# Regression Metrics for Relative Error\n",
    "\n",
    "Shop 1: predicted 9, sold 10, MSE = 1\n",
    "\n",
    "Shop 2: predicted 999, sold 1000, MSE = 1\n",
    "\n",
    "It's clear that Shop 2 did better, even MSE is the same. So we need metric to calculate relative error.\n",
    "\n",
    "So if we adjust error to relative error.\n",
    "\n",
    "Shop 1: predicted 9, sold 10, MSE = 1\n",
    "\n",
    "Shop 2: predicted 900, sold 1000, MSE = 10'000\n",
    "\n",
    "Shop 1: predicted 9, sold 10, relative_metric = 1\n",
    "\n",
    "Shop 2: predicted 900, sold 1000, relative_metric = 1\n"
   ]
  },
  {
   "cell_type": "markdown",
   "metadata": {},
   "source": [
    "# MSPE: Mean Squared Percentage Error (measures relative error)\n",
    "\n",
    "![image.png](images/mspe.png)\n",
    "\n",
    "\n",
    "To evaluate MSPE, check if your model beats baseline.\n",
    "\n",
    "![image.png](images/mspe_baseline.png)"
   ]
  },
  {
   "cell_type": "markdown",
   "metadata": {},
   "source": [
    "# MAPE: Mean Absolute Percentage Error (measures relative error)\n",
    "\n",
    "![image.png](images/mape.png)\n",
    "\n",
    "To evaluate MAPE, check if your model beats baseline. \n",
    "\n",
    "![image.png](images/mape_baseline.png)"
   ]
  },
  {
   "cell_type": "markdown",
   "metadata": {},
   "source": [
    "# RMSLE: Root Mean Square Logaritmic Error (measures relative error)\n",
    "\n",
    "![image.png](images/rmsle.png)\n",
    "\n",
    "\n",
    "To evalute, compare with baseline. Best constant - `exp(y_target_mean)` instead of y_hat"
   ]
  },
  {
   "cell_type": "code",
   "execution_count": null,
   "metadata": {},
   "outputs": [],
   "source": []
  }
 ],
 "metadata": {
  "kernelspec": {
   "display_name": "Python 3",
   "language": "python",
   "name": "python3"
  },
  "language_info": {
   "codemirror_mode": {
    "name": "ipython",
    "version": 3
   },
   "file_extension": ".py",
   "mimetype": "text/x-python",
   "name": "python",
   "nbconvert_exporter": "python",
   "pygments_lexer": "ipython3",
   "version": "3.7.1"
  }
 },
 "nbformat": 4,
 "nbformat_minor": 2
}
