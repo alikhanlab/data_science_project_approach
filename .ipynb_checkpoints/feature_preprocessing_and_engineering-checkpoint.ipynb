{
 "cells": [
  {
   "cell_type": "markdown",
   "metadata": {},
   "source": [
    "# Feature Preprocessing and Engineering"
   ]
  },
  {
   "cell_type": "markdown",
   "metadata": {},
   "source": [
    "## Numerical Features\n",
    "\n",
    "1. Scaling and Rank for numeric features\n",
    "\n",
    "    a. Tree-based models doesn't depend on them (GBDT, XgBoost, LightGBM)\n",
    "    \n",
    "    b. Non-tree based models hugely depends on them. (Linear, kNN, Neural Nets)\n",
    "    \n",
    "    \n",
    "2. Most often used preprocessing methods\n",
    "\n",
    "    a. `MinMaxScalar`, after scaling value range between [0, 1]. This method saves value distribution\n",
    "    \n",
    "    b. `StandardScalar`, normalizes distribution with mean = 0, and std = 1\n",
    "    \n",
    "    c. `Rank`, set spaces between sorted values to be equal.\n",
    "        \n",
    "        Example:\n",
    "        before scaling [0, 10, 18]\n",
    "        after scaling [0, 1, 2]\n",
    "        \n",
    "    d. np.log(1+x) and np.sqrt(1+x)\n",
    "        \n",
    "        np.log() used to distinguish values near 0\n",
    "        np.sqrt() to reduce magnitude\n",
    "        \n",
    "    e. Clip outliers\n",
    "        \n",
    "        Example:\n",
    "        np.clip(1, 99), only saves values between 1 and 99 percentile\n",
    "        \n",
    "3. Feature generation is powered by:\n",
    "        a. Prior knowledge\n",
    "        b. Exploratory Data Analysis (EDA)"
   ]
  },
  {
   "cell_type": "markdown",
   "metadata": {},
   "source": [
    "## Categorical Features\n",
    "\n",
    "1. Values in `ordinal` features are sorted in some meaningful order\n",
    "\n",
    "\n",
    "2. `Label encoding` maps categorical values to numerical. Mostly used in tree based models\n",
    "    \n",
    "        Example:\n",
    "        |city|     |city_label_encoded|\n",
    "        |Boston|   |0|\n",
    "        |Boston|   |0|\n",
    "        |NYC|      |1|\n",
    "        |Chicago|  |2|\n",
    "        |Boston|   |0|\n",
    "        |NYC|      |1|\n",
    "        |NYC|      |1|\n",
    "\n",
    "3. `Frequency encoding` maps categorical to their frequencies. Mostly used in tree based models\n",
    "\n",
    "\n",
    "4. `One hot encoding` creates new column for every unique row in categorical feature. Mostly used in non-tree based models (Linear, kNN, Neural Nets)\n",
    "\n",
    "\n",
    "5. Interaction of categorical features can help linear models and kNN. Simply speaking add two categorical columns and one-hot encode it."
   ]
  },
  {
   "cell_type": "markdown",
   "metadata": {},
   "source": [
    "## Datetime and Coordinates\n",
    "\n",
    "1. Datetime\n",
    "\n",
    "    a. `Periodicity` (day, week, year)\n",
    "    \n",
    "    b. `Time since row dependent/independent event`. \n",
    "        \n",
    "        Example:\n",
    "        time since last purchase can be very usefull feature.\n",
    "    \n",
    "    c. `Difference between dates`. \n",
    "        \n",
    "        Example: \n",
    "        date of cancel - date of buy can be very usefull\n",
    "        \n",
    "2. Coordinates\n",
    "\n",
    "    a. Distance between interesting places and train/test data.\n",
    "    \n",
    "        Example:\n",
    "        If we predict house price, houses closer to shopping malls, squares will be more expensive. \n",
    "    \n",
    "    b. Centers of clusters\n",
    "        \n",
    "        Example:\n",
    "        Places can form clusters and we can compute distances between clusters, and it might be usefull feature.\n",
    "    \n",
    "    c. Aggregated statistics\n",
    "        \n",
    "        Example:\n",
    "        Average price in neighborhood\n",
    "    "
   ]
  },
  {
   "cell_type": "code",
   "execution_count": null,
   "metadata": {},
   "outputs": [],
   "source": []
  }
 ],
 "metadata": {
  "kernelspec": {
   "display_name": "Python 3",
   "language": "python",
   "name": "python3"
  },
  "language_info": {
   "codemirror_mode": {
    "name": "ipython",
    "version": 3
   },
   "file_extension": ".py",
   "mimetype": "text/x-python",
   "name": "python",
   "nbconvert_exporter": "python",
   "pygments_lexer": "ipython3",
   "version": "3.7.1"
  }
 },
 "nbformat": 4,
 "nbformat_minor": 2
}
