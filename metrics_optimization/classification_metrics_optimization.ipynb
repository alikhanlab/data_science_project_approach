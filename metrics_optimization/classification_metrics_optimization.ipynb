{
 "cells": [
  {
   "cell_type": "markdown",
   "metadata": {},
   "source": [
    "## LogLoss\n",
    "\n",
    "Just run the right model. (or calibrate others, look at what is it calibration, not clear yet).\n",
    "\n",
    "## Accuracy\n",
    "\n",
    "Fit any metrics, and tune threshold.\n",
    "\n",
    "## Quadratic Weighted Kappa. (Cohen's Kappa)\n",
    "\n",
    "1. Optimize MSE\n",
    "\n",
    "2. Find right thresholds\n",
    "- Bad: np.round(predictions)\n",
    "- Better: optmize threshold.\n",
    "\n",
    "3. Use soft kappa loss. "
   ]
  },
  {
   "cell_type": "code",
   "execution_count": null,
   "metadata": {},
   "outputs": [],
   "source": []
  }
 ],
 "metadata": {
  "kernelspec": {
   "display_name": "Python 3",
   "language": "python",
   "name": "python3"
  },
  "language_info": {
   "codemirror_mode": {
    "name": "ipython",
    "version": 3
   },
   "file_extension": ".py",
   "mimetype": "text/x-python",
   "name": "python",
   "nbconvert_exporter": "python",
   "pygments_lexer": "ipython3",
   "version": "3.7.1"
  }
 },
 "nbformat": 4,
 "nbformat_minor": 2
}
