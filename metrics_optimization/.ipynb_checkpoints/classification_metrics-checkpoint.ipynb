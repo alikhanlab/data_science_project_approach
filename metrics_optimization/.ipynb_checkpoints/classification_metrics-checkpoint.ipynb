{
 "cells": [
  {
   "cell_type": "markdown",
   "metadata": {},
   "source": [
    "# Metrics For Classification\n",
    "\n",
    "## 1) Accuracy \n",
    "\n",
    "## 2) Logarithmic Loss (Error)\n",
    "\n",
    "## 3) Area under ROC curve\n",
    "\n",
    "## 4) Cohen's Kappa score (quadratic weighted) "
   ]
  },
  {
   "cell_type": "markdown",
   "metadata": {},
   "source": [
    "# Notation\n",
    "\n",
    "![image.png](../images/notation_classification.png)"
   ]
  },
  {
   "cell_type": "markdown",
   "metadata": {},
   "source": [
    "# Accuracy score\n",
    "\n",
    "- Measures how frequently our class prediction is correct\n",
    "\n",
    "- Best constant: use most frequent closs. So your model should beat baseline accuracy\n",
    "\n",
    "- Hard to optimize\n",
    "\n",
    "- Does not care about how confident the classifier is in the predictions\n",
    "\n",
    "![accuracy.png](../images/accuracy.png)"
   ]
  },
  {
   "cell_type": "markdown",
   "metadata": {},
   "source": [
    "# Logarithmic Loss (LogLoss, LogError)\n",
    "\n",
    "## Usage\n",
    "\n",
    "- Easier to optimize, because works with soft predictions\n",
    "\n",
    "- Logloss strongly penalises completely wrong answers, (prefers to make little errors than one big)\n",
    "\n",
    "- Best constant. Set `Ai` to frequency of `i th` class. \n",
    "\n",
    "- ### Binary\n",
    "\n",
    "![binary_logloss.png](../images/binary_logloss.png)"
   ]
  },
  {
   "cell_type": "markdown",
   "metadata": {},
   "source": [
    "### Multiclass\n",
    "\n",
    "![multiclass_logloss.png](../images/multiclass_logloss.png)"
   ]
  },
  {
   "cell_type": "markdown",
   "metadata": {},
   "source": [
    "# Area Under Curve (AUC ROC)\n",
    "\n",
    "Model 2 is better Model 1, because it has more true positive rate and lower false positive rate, thus covering more area on ROC curve.\n",
    "\n",
    "![roc.png](../images/roc.png)"
   ]
  },
  {
   "cell_type": "markdown",
   "metadata": {},
   "source": [
    "# Cohen's Kappa Score\n",
    "\n",
    "Mesures of how well model perferomed versus baseline model.\n",
    "\n",
    "![cohen_kappa.png](../images/cohen_kappa.png)"
   ]
  },
  {
   "cell_type": "code",
   "execution_count": null,
   "metadata": {},
   "outputs": [],
   "source": []
  }
 ],
 "metadata": {
  "kernelspec": {
   "display_name": "Python 3",
   "language": "python",
   "name": "python3"
  },
  "language_info": {
   "codemirror_mode": {
    "name": "ipython",
    "version": 3
   },
   "file_extension": ".py",
   "mimetype": "text/x-python",
   "name": "python",
   "nbconvert_exporter": "python",
   "pygments_lexer": "ipython3",
   "version": "3.7.1"
  }
 },
 "nbformat": 4,
 "nbformat_minor": 2
}
