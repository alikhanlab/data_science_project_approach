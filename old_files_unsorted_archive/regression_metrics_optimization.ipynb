{
 "cells": [
  {
   "cell_type": "markdown",
   "metadata": {},
   "source": [
    "# Regression Metrics Optimization\n",
    "\n",
    "## Just run the right model:\n",
    "- MSE\n",
    "\n",
    "## Preprocess train, and optmize another metric:\n",
    "- MSPE, MAPE, RMSLE"
   ]
  },
  {
   "cell_type": "markdown",
   "metadata": {},
   "source": [
    "## RMSE, MSE, R-squared\n",
    "\n",
    "These metrics can be optimized within the model parameter, just fit the model which support these metrics.\n",
    "\n",
    "- RMSE, MSE, R-squred = L2 Loss optimization all are the same optimization\n",
    "\n",
    "\n",
    "## MAE\n",
    "\n",
    "Just fit the right model which supports it.\n",
    "\n",
    "- MAE = L1 Loss, Median Regression Loss all are the same optimization\n",
    "\n",
    "## MSPE and MAPE\n",
    "\n",
    "- Use weights for samples. (\"sample_weights\") and use MSE (MAE) optimization.\n",
    "\n",
    "- Not every library accepts sample weights.\n",
    "        \n",
    "        - XGBoost, LightGBM accepts.\n",
    "        - Neural Nets not supports. But it is easy to implemeny if supported.\n",
    "            - Resample the train set.\n",
    "              df.sample(weights = 'sample_weights')\n",
    "            - And use any model that optimizes MSE (MAE)\n",
    "            - Usually need resample many times (4-5) and average.\n",
    "            \n",
    " \n",
    "## RMSLE\n",
    "\n",
    "`Train` set.\n",
    "\n",
    "1. Transform target:\n",
    "z_i = log(y_i + 1)\n",
    "\n",
    "2. Fit a model with MSE loss.\n",
    "\n",
    "`Test` set.\n",
    "\n",
    "1. Transform predictions back.\n",
    "y_i = exp(z_i)-1"
   ]
  },
  {
   "cell_type": "code",
   "execution_count": null,
   "metadata": {},
   "outputs": [],
   "source": []
  }
 ],
 "metadata": {
  "kernelspec": {
   "display_name": "Python 3",
   "language": "python",
   "name": "python3"
  },
  "language_info": {
   "codemirror_mode": {
    "name": "ipython",
    "version": 3
   },
   "file_extension": ".py",
   "mimetype": "text/x-python",
   "name": "python",
   "nbconvert_exporter": "python",
   "pygments_lexer": "ipython3",
   "version": "3.7.1"
  }
 },
 "nbformat": 4,
 "nbformat_minor": 2
}
