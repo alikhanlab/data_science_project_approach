{
 "cells": [
  {
   "cell_type": "markdown",
   "metadata": {},
   "source": [
    "# Exploratory Data Analysis (EDA)\n",
    "\n",
    "# Do EDA first. Do not immediately dig into modeling"
   ]
  },
  {
   "cell_type": "markdown",
   "metadata": {},
   "source": [
    "Why we need EDA?\n",
    "\n",
    "It is usefull to perform EDA because with EDA\n",
    "\n",
    "1. Better understand data\n",
    "\n",
    "\n",
    "2. Build intuition about data\n",
    "   - Get domain knowledge. It helps better understand the problem.\n",
    "   - Get to know each column meaning\n",
    "   - Check if the data is intuitive, and agrees with domain knowledge.\n",
    "       Example:\n",
    "       Age column should be in range 1-150 years\n",
    "       \n",
    "       \n",
    "4. Understand how the data was generated.\n",
    "    - As it is crucial to set up a proper validation\n",
    "\n",
    "\n",
    "3. Generate hypothesis\n",
    "\n",
    "\n",
    "4. Find insights"
   ]
  },
  {
   "cell_type": "markdown",
   "metadata": {},
   "source": [
    "## Explore Anonimized Data if any\n",
    "\n",
    "- Try to decode features. Guess the meaning\n",
    "\n",
    "- Guess feature types. Because each type needs its own preprocessing."
   ]
  },
  {
   "cell_type": "markdown",
   "metadata": {},
   "source": [
    "## EDA Visualizations\n",
    "\n",
    "1. Explore Individual Features\n",
    "    - Histogram, look at the distribution.\n",
    "    - Plot (index vs value)\n",
    "    - Statistics\n",
    "    \n",
    "2. Explore Feature Relations\n",
    "    - Pairs:\n",
    "        - Scatter plot.\n",
    "        - Correlation plot.\n",
    "        \n",
    "    - Groups:\n",
    "        - Correlation plot + clustering\n",
    "        - Plot (index vs feature statistics)"
   ]
  },
  {
   "cell_type": "code",
   "execution_count": null,
   "metadata": {},
   "outputs": [],
   "source": []
  }
 ],
 "metadata": {
  "kernelspec": {
   "display_name": "Python 3",
   "language": "python",
   "name": "python3"
  },
  "language_info": {
   "codemirror_mode": {
    "name": "ipython",
    "version": 3
   },
   "file_extension": ".py",
   "mimetype": "text/x-python",
   "name": "python",
   "nbconvert_exporter": "python",
   "pygments_lexer": "ipython3",
   "version": "3.7.1"
  }
 },
 "nbformat": 4,
 "nbformat_minor": 2
}
