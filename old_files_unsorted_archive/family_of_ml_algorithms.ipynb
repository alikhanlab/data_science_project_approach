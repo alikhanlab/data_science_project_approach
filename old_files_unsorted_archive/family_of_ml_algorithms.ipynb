{
 "cells": [
  {
   "cell_type": "markdown",
   "metadata": {},
   "source": [
    "# Family of ML Algorithms\n",
    "\n",
    "All ML models are devided into 4 categories:\n",
    "\n",
    "- Linear\n",
    "- Tree based\n",
    "- kNN\n",
    "- Neural Networks"
   ]
  },
  {
   "attachments": {},
   "cell_type": "markdown",
   "metadata": {},
   "source": [
    "## Linear Models\n",
    "\n",
    "Example:\n",
    "- Logistic Regression\n",
    "- SVM\n",
    "\n",
    "![image.png](images/linear_model.png)\n",
    "\n",
    "\n",
    "\n",
    "Pros:\n",
    "- Good for sparse high dimensional data\n",
    "\n",
    "Cons:\n",
    "- There are cases where points can't be separated by plane, because linear models tries to separate models using line (some are more complex, some are simple)"
   ]
  },
  {
   "attachments": {},
   "cell_type": "markdown",
   "metadata": {},
   "source": [
    "## Tree based models\n",
    "\n",
    "Example:\n",
    "- Decision Trees\n",
    "- Random Forest\n",
    "- GBDT (Gradient Boosted Decision Trees)\n",
    "\n",
    "\n",
    "\n",
    "![image.png](images/tree_model.png)\n",
    "\n",
    "Pros:\n",
    "- Good for tabular data\n",
    "\n",
    "Cons:\n",
    "- Hard to capture linear dependency, because requiries a lot of splits"
   ]
  },
  {
   "attachments": {},
   "cell_type": "markdown",
   "metadata": {},
   "source": [
    "## kNN\n",
    "\n",
    "Intuition: \n",
    "- Points closer to each other likely to have similar labels\n",
    "- k-neighbors, and select labels by majority. (if unknown label closer to white labels then it's white, if there are more gray labels near unknown label then unkonwn label will be gray)\n",
    "\n",
    "\n",
    "\n",
    "\n",
    "![image.png](images/knn_model.png)"
   ]
  },
  {
   "cell_type": "markdown",
   "metadata": {},
   "source": [
    "## Neural Nets\n",
    "\n",
    "Special class of ML algorithms. A smooth curve compared to decision trees.\n",
    "\n",
    "NN goods for images, sounds, text, sequences\n",
    "\n",
    "Use PyTorch, because it's simple to use.\n",
    "\n",
    "\n",
    "Online playground for neural nets. [Neural Nets Playground](https://playground.tensorflow.org/#activation=tanh&batchSize=10&dataset=circle&regDataset=reg-plane&learningRate=0.03&regularizationRate=0&noise=0&networkShape=4,2&seed=0.53659&showTestData=false&discretize=false&percTrainData=50&x=true&y=true&xTimesY=false&xSquared=false&ySquared=false&cosX=false&sinX=false&cosY=false&sinY=false&collectStats=false&problem=classification&initZero=false&hideText=false)"
   ]
  },
  {
   "cell_type": "code",
   "execution_count": null,
   "metadata": {},
   "outputs": [],
   "source": []
  }
 ],
 "metadata": {
  "kernelspec": {
   "display_name": "Python 3",
   "language": "python",
   "name": "python3"
  },
  "language_info": {
   "codemirror_mode": {
    "name": "ipython",
    "version": 3
   },
   "file_extension": ".py",
   "mimetype": "text/x-python",
   "name": "python",
   "nbconvert_exporter": "python",
   "pygments_lexer": "ipython3",
   "version": "3.7.1"
  }
 },
 "nbformat": 4,
 "nbformat_minor": 2
}
